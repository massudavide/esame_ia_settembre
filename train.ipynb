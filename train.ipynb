{
 "cells": [
  {
   "cell_type": "code",
   "execution_count": 310,
   "metadata": {},
   "outputs": [
    {
     "name": "stdout",
     "output_type": "stream",
     "text": [
      "Requirement already satisfied: matplotlib==3.1.3 in /home/davide/anaconda3/lib/python3.7/site-packages (from -r requirements.txt (line 1)) (3.1.3)\n",
      "Requirement already satisfied: numpy==1.18.1 in /home/davide/anaconda3/lib/python3.7/site-packages (from -r requirements.txt (line 2)) (1.18.1)\n",
      "Requirement already satisfied: pandas==1.0.1 in /home/davide/anaconda3/lib/python3.7/site-packages (from -r requirements.txt (line 3)) (1.0.1)\n",
      "Requirement already satisfied: scikit-learn==0.22.1 in /home/davide/anaconda3/lib/python3.7/site-packages (from -r requirements.txt (line 4)) (0.22.1)\n",
      "Requirement already satisfied: kiwisolver>=1.0.1 in /home/davide/anaconda3/lib/python3.7/site-packages (from matplotlib==3.1.3->-r requirements.txt (line 1)) (1.1.0)\n",
      "Requirement already satisfied: python-dateutil>=2.1 in /home/davide/anaconda3/lib/python3.7/site-packages (from matplotlib==3.1.3->-r requirements.txt (line 1)) (2.8.0)\n",
      "Requirement already satisfied: cycler>=0.10 in /home/davide/anaconda3/lib/python3.7/site-packages (from matplotlib==3.1.3->-r requirements.txt (line 1)) (0.10.0)\n",
      "Requirement already satisfied: pyparsing!=2.0.4,!=2.1.2,!=2.1.6,>=2.0.1 in /home/davide/anaconda3/lib/python3.7/site-packages (from matplotlib==3.1.3->-r requirements.txt (line 1)) (2.4.2)\n",
      "Requirement already satisfied: pytz>=2017.2 in /home/davide/anaconda3/lib/python3.7/site-packages (from pandas==1.0.1->-r requirements.txt (line 3)) (2019.3)\n",
      "Requirement already satisfied: scipy>=0.17.0 in /home/davide/anaconda3/lib/python3.7/site-packages (from scikit-learn==0.22.1->-r requirements.txt (line 4)) (1.4.1)\n",
      "Requirement already satisfied: joblib>=0.11 in /home/davide/anaconda3/lib/python3.7/site-packages (from scikit-learn==0.22.1->-r requirements.txt (line 4)) (0.13.2)\n",
      "Requirement already satisfied: setuptools in /home/davide/anaconda3/lib/python3.7/site-packages (from kiwisolver>=1.0.1->matplotlib==3.1.3->-r requirements.txt (line 1)) (47.1.1)\n",
      "Requirement already satisfied: six>=1.5 in /home/davide/anaconda3/lib/python3.7/site-packages (from python-dateutil>=2.1->matplotlib==3.1.3->-r requirements.txt (line 1)) (1.14.0)\n"
     ]
    }
   ],
   "source": [
    "!pip install -r requirements.txt"
   ]
  },
  {
   "cell_type": "code",
   "execution_count": 311,
   "metadata": {},
   "outputs": [],
   "source": [
    "import numpy as np\n",
    "import pandas as pd\n",
    "import matplotlib.pyplot as plt\n",
    "from matplotlib import pylab\n",
    "from sklearn.metrics import plot_confusion_matrix\n",
    "from sklearn.svm import SVC"
   ]
  },
  {
   "cell_type": "code",
   "execution_count": 312,
   "metadata": {},
   "outputs": [],
   "source": [
    "train_path = \"train.csv\"\n",
    "train = pd.read_csv(train_path)\n",
    "\n",
    "test_path = \"test.csv\"\n",
    "test = pd.read_csv(test_path)"
   ]
  },
  {
   "cell_type": "code",
   "execution_count": 313,
   "metadata": {},
   "outputs": [
    {
     "name": "stdout",
     "output_type": "stream",
     "text": [
      "train shape:  (167, 14)\n",
      "test shape:  (72, 14)\n"
     ]
    }
   ],
   "source": [
    "print('train shape: ', train.shape)\n",
    "print('test shape: ', test.shape)"
   ]
  },
  {
   "cell_type": "code",
   "execution_count": 314,
   "metadata": {},
   "outputs": [
    {
     "data": {
      "text/html": [
       "<div>\n",
       "<style scoped>\n",
       "    .dataframe tbody tr th:only-of-type {\n",
       "        vertical-align: middle;\n",
       "    }\n",
       "\n",
       "    .dataframe tbody tr th {\n",
       "        vertical-align: top;\n",
       "    }\n",
       "\n",
       "    .dataframe thead th {\n",
       "        text-align: right;\n",
       "    }\n",
       "</style>\n",
       "<table border=\"1\" class=\"dataframe\">\n",
       "  <thead>\n",
       "    <tr style=\"text-align: right;\">\n",
       "      <th></th>\n",
       "      <th>Unnamed: 0</th>\n",
       "      <th>DEATH_EVENT</th>\n",
       "      <th>age</th>\n",
       "      <th>anaemia</th>\n",
       "      <th>creatinine_phosphokinase</th>\n",
       "      <th>diabetes</th>\n",
       "      <th>ejection_fraction</th>\n",
       "      <th>high_blood_pressure</th>\n",
       "      <th>platelets</th>\n",
       "      <th>serum_creatinine</th>\n",
       "      <th>serum_sodium</th>\n",
       "      <th>sex</th>\n",
       "      <th>smoking</th>\n",
       "      <th>time</th>\n",
       "    </tr>\n",
       "  </thead>\n",
       "  <tbody>\n",
       "    <tr>\n",
       "      <th>0</th>\n",
       "      <td>170</td>\n",
       "      <td>0</td>\n",
       "      <td>45.0</td>\n",
       "      <td>0</td>\n",
       "      <td>615</td>\n",
       "      <td>1</td>\n",
       "      <td>55</td>\n",
       "      <td>0</td>\n",
       "      <td>222000.00</td>\n",
       "      <td>0.8</td>\n",
       "      <td>141</td>\n",
       "      <td>0</td>\n",
       "      <td>0</td>\n",
       "      <td>257</td>\n",
       "    </tr>\n",
       "    <tr>\n",
       "      <th>1</th>\n",
       "      <td>81</td>\n",
       "      <td>0</td>\n",
       "      <td>60.0</td>\n",
       "      <td>1</td>\n",
       "      <td>737</td>\n",
       "      <td>0</td>\n",
       "      <td>60</td>\n",
       "      <td>1</td>\n",
       "      <td>210000.00</td>\n",
       "      <td>1.5</td>\n",
       "      <td>135</td>\n",
       "      <td>1</td>\n",
       "      <td>1</td>\n",
       "      <td>95</td>\n",
       "    </tr>\n",
       "    <tr>\n",
       "      <th>2</th>\n",
       "      <td>22</td>\n",
       "      <td>0</td>\n",
       "      <td>51.0</td>\n",
       "      <td>1</td>\n",
       "      <td>582</td>\n",
       "      <td>1</td>\n",
       "      <td>35</td>\n",
       "      <td>0</td>\n",
       "      <td>263358.03</td>\n",
       "      <td>1.5</td>\n",
       "      <td>136</td>\n",
       "      <td>1</td>\n",
       "      <td>1</td>\n",
       "      <td>145</td>\n",
       "    </tr>\n",
       "    <tr>\n",
       "      <th>3</th>\n",
       "      <td>194</td>\n",
       "      <td>1</td>\n",
       "      <td>57.0</td>\n",
       "      <td>1</td>\n",
       "      <td>129</td>\n",
       "      <td>0</td>\n",
       "      <td>30</td>\n",
       "      <td>0</td>\n",
       "      <td>395000.00</td>\n",
       "      <td>1.0</td>\n",
       "      <td>140</td>\n",
       "      <td>0</td>\n",
       "      <td>0</td>\n",
       "      <td>42</td>\n",
       "    </tr>\n",
       "    <tr>\n",
       "      <th>4</th>\n",
       "      <td>20</td>\n",
       "      <td>1</td>\n",
       "      <td>59.0</td>\n",
       "      <td>1</td>\n",
       "      <td>176</td>\n",
       "      <td>1</td>\n",
       "      <td>25</td>\n",
       "      <td>0</td>\n",
       "      <td>221000.00</td>\n",
       "      <td>1.0</td>\n",
       "      <td>136</td>\n",
       "      <td>1</td>\n",
       "      <td>1</td>\n",
       "      <td>150</td>\n",
       "    </tr>\n",
       "  </tbody>\n",
       "</table>\n",
       "</div>"
      ],
      "text/plain": [
       "   Unnamed: 0  DEATH_EVENT   age  anaemia  creatinine_phosphokinase  diabetes  \\\n",
       "0         170            0  45.0        0                       615         1   \n",
       "1          81            0  60.0        1                       737         0   \n",
       "2          22            0  51.0        1                       582         1   \n",
       "3         194            1  57.0        1                       129         0   \n",
       "4          20            1  59.0        1                       176         1   \n",
       "\n",
       "   ejection_fraction  high_blood_pressure  platelets  serum_creatinine  \\\n",
       "0                 55                    0  222000.00               0.8   \n",
       "1                 60                    1  210000.00               1.5   \n",
       "2                 35                    0  263358.03               1.5   \n",
       "3                 30                    0  395000.00               1.0   \n",
       "4                 25                    0  221000.00               1.0   \n",
       "\n",
       "   serum_sodium  sex  smoking  time  \n",
       "0           141    0        0   257  \n",
       "1           135    1        1    95  \n",
       "2           136    1        1   145  \n",
       "3           140    0        0    42  \n",
       "4           136    1        1   150  "
      ]
     },
     "execution_count": 314,
     "metadata": {},
     "output_type": "execute_result"
    }
   ],
   "source": [
    "train.head()"
   ]
  },
  {
   "cell_type": "code",
   "execution_count": 315,
   "metadata": {},
   "outputs": [
    {
     "data": {
      "text/html": [
       "<div>\n",
       "<style scoped>\n",
       "    .dataframe tbody tr th:only-of-type {\n",
       "        vertical-align: middle;\n",
       "    }\n",
       "\n",
       "    .dataframe tbody tr th {\n",
       "        vertical-align: top;\n",
       "    }\n",
       "\n",
       "    .dataframe thead th {\n",
       "        text-align: right;\n",
       "    }\n",
       "</style>\n",
       "<table border=\"1\" class=\"dataframe\">\n",
       "  <thead>\n",
       "    <tr style=\"text-align: right;\">\n",
       "      <th></th>\n",
       "      <th>Unnamed: 0</th>\n",
       "      <th>DEATH_EVENT</th>\n",
       "      <th>age</th>\n",
       "      <th>anaemia</th>\n",
       "      <th>creatinine_phosphokinase</th>\n",
       "      <th>diabetes</th>\n",
       "      <th>ejection_fraction</th>\n",
       "      <th>high_blood_pressure</th>\n",
       "      <th>platelets</th>\n",
       "      <th>serum_creatinine</th>\n",
       "      <th>serum_sodium</th>\n",
       "      <th>sex</th>\n",
       "      <th>smoking</th>\n",
       "      <th>time</th>\n",
       "    </tr>\n",
       "  </thead>\n",
       "  <tbody>\n",
       "    <tr>\n",
       "      <th>count</th>\n",
       "      <td>167.000000</td>\n",
       "      <td>167.000000</td>\n",
       "      <td>167.000000</td>\n",
       "      <td>167.000000</td>\n",
       "      <td>167.000000</td>\n",
       "      <td>167.000000</td>\n",
       "      <td>167.000000</td>\n",
       "      <td>167.000000</td>\n",
       "      <td>167.000000</td>\n",
       "      <td>167.000000</td>\n",
       "      <td>167.000000</td>\n",
       "      <td>167.000000</td>\n",
       "      <td>167.000000</td>\n",
       "      <td>167.000000</td>\n",
       "    </tr>\n",
       "    <tr>\n",
       "      <th>mean</th>\n",
       "      <td>121.892216</td>\n",
       "      <td>0.335329</td>\n",
       "      <td>60.894216</td>\n",
       "      <td>0.431138</td>\n",
       "      <td>559.868263</td>\n",
       "      <td>0.443114</td>\n",
       "      <td>38.017964</td>\n",
       "      <td>0.341317</td>\n",
       "      <td>260856.361796</td>\n",
       "      <td>1.399461</td>\n",
       "      <td>136.467066</td>\n",
       "      <td>0.652695</td>\n",
       "      <td>0.305389</td>\n",
       "      <td>128.532934</td>\n",
       "    </tr>\n",
       "    <tr>\n",
       "      <th>std</th>\n",
       "      <td>69.191025</td>\n",
       "      <td>0.473525</td>\n",
       "      <td>12.432311</td>\n",
       "      <td>0.496725</td>\n",
       "      <td>907.146835</td>\n",
       "      <td>0.498247</td>\n",
       "      <td>11.590125</td>\n",
       "      <td>0.475578</td>\n",
       "      <td>94646.946970</td>\n",
       "      <td>1.044597</td>\n",
       "      <td>4.308558</td>\n",
       "      <td>0.477546</td>\n",
       "      <td>0.461957</td>\n",
       "      <td>79.092655</td>\n",
       "    </tr>\n",
       "    <tr>\n",
       "      <th>min</th>\n",
       "      <td>0.000000</td>\n",
       "      <td>0.000000</td>\n",
       "      <td>40.000000</td>\n",
       "      <td>0.000000</td>\n",
       "      <td>23.000000</td>\n",
       "      <td>0.000000</td>\n",
       "      <td>15.000000</td>\n",
       "      <td>0.000000</td>\n",
       "      <td>47000.000000</td>\n",
       "      <td>0.600000</td>\n",
       "      <td>113.000000</td>\n",
       "      <td>0.000000</td>\n",
       "      <td>0.000000</td>\n",
       "      <td>4.000000</td>\n",
       "    </tr>\n",
       "    <tr>\n",
       "      <th>25%</th>\n",
       "      <td>60.500000</td>\n",
       "      <td>0.000000</td>\n",
       "      <td>50.500000</td>\n",
       "      <td>0.000000</td>\n",
       "      <td>115.000000</td>\n",
       "      <td>0.000000</td>\n",
       "      <td>30.000000</td>\n",
       "      <td>0.000000</td>\n",
       "      <td>212000.000000</td>\n",
       "      <td>0.900000</td>\n",
       "      <td>134.000000</td>\n",
       "      <td>0.000000</td>\n",
       "      <td>0.000000</td>\n",
       "      <td>65.500000</td>\n",
       "    </tr>\n",
       "    <tr>\n",
       "      <th>50%</th>\n",
       "      <td>124.000000</td>\n",
       "      <td>0.000000</td>\n",
       "      <td>60.000000</td>\n",
       "      <td>0.000000</td>\n",
       "      <td>250.000000</td>\n",
       "      <td>0.000000</td>\n",
       "      <td>38.000000</td>\n",
       "      <td>0.000000</td>\n",
       "      <td>263000.000000</td>\n",
       "      <td>1.100000</td>\n",
       "      <td>137.000000</td>\n",
       "      <td>1.000000</td>\n",
       "      <td>0.000000</td>\n",
       "      <td>115.000000</td>\n",
       "    </tr>\n",
       "    <tr>\n",
       "      <th>75%</th>\n",
       "      <td>182.500000</td>\n",
       "      <td>1.000000</td>\n",
       "      <td>69.000000</td>\n",
       "      <td>1.000000</td>\n",
       "      <td>582.000000</td>\n",
       "      <td>1.000000</td>\n",
       "      <td>45.000000</td>\n",
       "      <td>1.000000</td>\n",
       "      <td>305000.000000</td>\n",
       "      <td>1.400000</td>\n",
       "      <td>139.000000</td>\n",
       "      <td>1.000000</td>\n",
       "      <td>1.000000</td>\n",
       "      <td>207.000000</td>\n",
       "    </tr>\n",
       "    <tr>\n",
       "      <th>max</th>\n",
       "      <td>238.000000</td>\n",
       "      <td>1.000000</td>\n",
       "      <td>95.000000</td>\n",
       "      <td>1.000000</td>\n",
       "      <td>7861.000000</td>\n",
       "      <td>1.000000</td>\n",
       "      <td>80.000000</td>\n",
       "      <td>1.000000</td>\n",
       "      <td>742000.000000</td>\n",
       "      <td>9.000000</td>\n",
       "      <td>146.000000</td>\n",
       "      <td>1.000000</td>\n",
       "      <td>1.000000</td>\n",
       "      <td>280.000000</td>\n",
       "    </tr>\n",
       "  </tbody>\n",
       "</table>\n",
       "</div>"
      ],
      "text/plain": [
       "       Unnamed: 0  DEATH_EVENT         age     anaemia  \\\n",
       "count  167.000000   167.000000  167.000000  167.000000   \n",
       "mean   121.892216     0.335329   60.894216    0.431138   \n",
       "std     69.191025     0.473525   12.432311    0.496725   \n",
       "min      0.000000     0.000000   40.000000    0.000000   \n",
       "25%     60.500000     0.000000   50.500000    0.000000   \n",
       "50%    124.000000     0.000000   60.000000    0.000000   \n",
       "75%    182.500000     1.000000   69.000000    1.000000   \n",
       "max    238.000000     1.000000   95.000000    1.000000   \n",
       "\n",
       "       creatinine_phosphokinase    diabetes  ejection_fraction  \\\n",
       "count                167.000000  167.000000         167.000000   \n",
       "mean                 559.868263    0.443114          38.017964   \n",
       "std                  907.146835    0.498247          11.590125   \n",
       "min                   23.000000    0.000000          15.000000   \n",
       "25%                  115.000000    0.000000          30.000000   \n",
       "50%                  250.000000    0.000000          38.000000   \n",
       "75%                  582.000000    1.000000          45.000000   \n",
       "max                 7861.000000    1.000000          80.000000   \n",
       "\n",
       "       high_blood_pressure      platelets  serum_creatinine  serum_sodium  \\\n",
       "count           167.000000     167.000000        167.000000    167.000000   \n",
       "mean              0.341317  260856.361796          1.399461    136.467066   \n",
       "std               0.475578   94646.946970          1.044597      4.308558   \n",
       "min               0.000000   47000.000000          0.600000    113.000000   \n",
       "25%               0.000000  212000.000000          0.900000    134.000000   \n",
       "50%               0.000000  263000.000000          1.100000    137.000000   \n",
       "75%               1.000000  305000.000000          1.400000    139.000000   \n",
       "max               1.000000  742000.000000          9.000000    146.000000   \n",
       "\n",
       "              sex     smoking        time  \n",
       "count  167.000000  167.000000  167.000000  \n",
       "mean     0.652695    0.305389  128.532934  \n",
       "std      0.477546    0.461957   79.092655  \n",
       "min      0.000000    0.000000    4.000000  \n",
       "25%      0.000000    0.000000   65.500000  \n",
       "50%      1.000000    0.000000  115.000000  \n",
       "75%      1.000000    1.000000  207.000000  \n",
       "max      1.000000    1.000000  280.000000  "
      ]
     },
     "execution_count": 315,
     "metadata": {},
     "output_type": "execute_result"
    }
   ],
   "source": [
    "train.describe()"
   ]
  },
  {
   "cell_type": "code",
   "execution_count": 316,
   "metadata": {},
   "outputs": [],
   "source": [
    "soloMorti = train.loc[train['DEATH_EVENT']==1]\n",
    "soloVivi = train.loc[train['DEATH_EVENT']==0]"
   ]
  },
  {
   "cell_type": "markdown",
   "metadata": {},
   "source": [
    "Ho descritto soltanto l'analisi di 4 features essendo quelle più rilevanti.\n",
    "Come per queste ho eseguito gli stessi passi anche per le altre, accorgendomi che il rapporto tra i vari casi di attacchi cardiaci e quindi morte rispetto a tutte le altre features risultava essere circa costante ad 1/3, innalzando così la complessità del modello senza avere però dei risultati veri e propri."
   ]
  },
  {
   "cell_type": "markdown",
   "metadata": {},
   "source": [
    "# age\n",
    "funzione che permette di dividere l'età in gruppi sicuramente un parametro importante in quanto maggiore è l'eta maggiore sarà il rischio di infarto"
   ]
  },
  {
   "cell_type": "code",
   "execution_count": 317,
   "metadata": {},
   "outputs": [],
   "source": [
    "def fascia_eta(dataSet):\n",
    "    bins= [0,51,61,71,100]\n",
    "    labels = [0,1,2,3]\n",
    "    \n",
    "    dataSet['age'] = pd.cut(dataSet['age'], bins=bins, labels=labels, right=False)\n",
    "\n",
    "fascia_eta(train)\n",
    "fascia_eta(test)"
   ]
  },
  {
   "cell_type": "code",
   "execution_count": 318,
   "metadata": {},
   "outputs": [
    {
     "data": {
      "text/plain": [
       "DEATH_EVENT  age\n",
       "0            0      34\n",
       "             1      34\n",
       "             2      35\n",
       "             3       8\n",
       "1            0       8\n",
       "             1      15\n",
       "             2      12\n",
       "             3      21\n",
       "Name: DEATH_EVENT, dtype: int64"
      ]
     },
     "execution_count": 318,
     "metadata": {},
     "output_type": "execute_result"
    }
   ],
   "source": [
    "train.groupby(['DEATH_EVENT', 'age'])['DEATH_EVENT'].count()"
   ]
  },
  {
   "cell_type": "markdown",
   "metadata": {},
   "source": [
    "# time\n",
    "vi è una relazione tra le persone prese in osservazione e gli attacchi cardiaci. In particolare le persone che sono state prese in esame da meno tempo hanno una possibilità maggiore di morire"
   ]
  },
  {
   "cell_type": "code",
   "execution_count": 319,
   "metadata": {},
   "outputs": [
    {
     "data": {
      "image/png": "[encoded data removed]",
      "text/plain": [
       "<Figure size 432x288 with 1 Axes>"
      ]
     },
     "metadata": {
      "needs_background": "light"
     },
     "output_type": "display_data"
    },
    {
     "data": {
      "image/png": "[encoded data removed]",
      "text/plain": [
       "<Figure size 432x288 with 1 Axes>"
      ]
     },
     "metadata": {
      "needs_background": "light"
     },
     "output_type": "display_data"
    }
   ],
   "source": [
    "plt.hist(soloVivi['time'])\n",
    "plt.xlabel('time')\n",
    "plt.ylabel('Count')\n",
    "plt.title('valori di time per i vivi')\n",
    "plt.show()\n",
    "\n",
    "plt.hist(soloMorti['time'])\n",
    "plt.xlabel('time')\n",
    "plt.ylabel('Count')\n",
    "plt.title('valori di time per i morti')\n",
    "plt.show()"
   ]
  },
  {
   "cell_type": "code",
   "execution_count": 320,
   "metadata": {},
   "outputs": [],
   "source": [
    "train['time'] = pd.cut(train.time, bins=4, labels=np.arange(4), right=False)\n",
    "test['time'] = pd.cut(test.time, bins=4, labels=np.arange(4), right=False)"
   ]
  },
  {
   "cell_type": "code",
   "execution_count": 321,
   "metadata": {},
   "outputs": [
    {
     "data": {
      "text/plain": [
       "DEATH_EVENT  time\n",
       "0            0        9\n",
       "             1       39\n",
       "             2       31\n",
       "             3       32\n",
       "1            0       37\n",
       "             1        9\n",
       "             2        7\n",
       "             3        3\n",
       "Name: DEATH_EVENT, dtype: int64"
      ]
     },
     "execution_count": 321,
     "metadata": {},
     "output_type": "execute_result"
    }
   ],
   "source": [
    "train.groupby(['DEATH_EVENT', 'time'])['DEATH_EVENT'].count()"
   ]
  },
  {
   "cell_type": "markdown",
   "metadata": {},
   "source": [
    "# serum_creatinine\n",
    "Ad essere sincero non riesco bene a stimare la relazione che vi è tra creatinina e morte ma facendo un paragone tra i valori creatinina nelle persone vive con quelli dei morti si riesce ad osservare che all'aumentare della creatinina aumenta anche il rischio di morte"
   ]
  },
  {
   "cell_type": "code",
   "execution_count": 322,
   "metadata": {},
   "outputs": [
    {
     "data": {
      "text/plain": [
       "count    167.000000\n",
       "mean       1.399461\n",
       "std        1.044597\n",
       "min        0.600000\n",
       "25%        0.900000\n",
       "50%        1.100000\n",
       "75%        1.400000\n",
       "max        9.000000\n",
       "Name: serum_creatinine, dtype: float64"
      ]
     },
     "execution_count": 322,
     "metadata": {},
     "output_type": "execute_result"
    }
   ],
   "source": [
    "train['serum_creatinine'].describe()"
   ]
  },
  {
   "cell_type": "code",
   "execution_count": 323,
   "metadata": {},
   "outputs": [],
   "source": [
    "# funzione che permette di dividere i valori della creatinina in gruppi\n",
    "def group_serum_creatinine(dataSet):\n",
    "    bins= [0,0.5,1,1.5,10]\n",
    "    labels = [0,1,2,3]\n",
    "    \n",
    "    dataSet['serum_creatinine'] = pd.cut(dataSet['serum_creatinine'], bins=bins, labels=labels, right=False)\n",
    "    \n",
    "group_serum_creatinine(train)\n",
    "group_serum_creatinine(test)"
   ]
  },
  {
   "cell_type": "code",
   "execution_count": 324,
   "metadata": {},
   "outputs": [
    {
     "data": {
      "text/plain": [
       "DEATH_EVENT  serum_creatinine\n",
       "0            0                    0\n",
       "             1                   41\n",
       "             2                   57\n",
       "             3                   13\n",
       "1            0                    0\n",
       "             1                    4\n",
       "             2                   26\n",
       "             3                   26\n",
       "Name: DEATH_EVENT, dtype: int64"
      ]
     },
     "execution_count": 324,
     "metadata": {},
     "output_type": "execute_result"
    }
   ],
   "source": [
    "train.groupby(['DEATH_EVENT', 'serum_creatinine'])['DEATH_EVENT'].count()"
   ]
  },
  {
   "cell_type": "markdown",
   "metadata": {},
   "source": [
    "# ejection_fraction\n",
    "Le persone che hanno una minore perchentuale di sangue ch esce dal cuore ad ogni contrazione hanno una probabilità maggiore di avere un attacco cardiaco e quindi una maggiore possibilità di morire"
   ]
  },
  {
   "cell_type": "code",
   "execution_count": 325,
   "metadata": {},
   "outputs": [
    {
     "data": {
      "image/png": "[encoded data removed]",
      "text/plain": [
       "<Figure size 432x288 with 1 Axes>"
      ]
     },
     "metadata": {
      "needs_background": "light"
     },
     "output_type": "display_data"
    },
    {
     "data": {
      "image/png": "[encoded data removed]",
      "text/plain": [
       "<Figure size 432x288 with 1 Axes>"
      ]
     },
     "metadata": {
      "needs_background": "light"
     },
     "output_type": "display_data"
    }
   ],
   "source": [
    "plt.hist(soloVivi['ejection_fraction'])\n",
    "plt.xlabel('ejection_fraction')\n",
    "plt.ylabel('Count')\n",
    "plt.title('valori di ejection_fraction per i vivi')\n",
    "plt.show()\n",
    "\n",
    "plt.hist(soloMorti['ejection_fraction'])\n",
    "plt.xlabel('ejection_fraction')\n",
    "plt.ylabel('Count')\n",
    "plt.title('valori di ejection_fraction per i morti')\n",
    "plt.show()"
   ]
  },
  {
   "cell_type": "code",
   "execution_count": 326,
   "metadata": {},
   "outputs": [],
   "source": [
    "train['ejection_fraction'] = pd.cut(train.ejection_fraction, bins=3, labels=np.arange(3), right=False)\n",
    "test['ejection_fraction'] = pd.cut(test.ejection_fraction, bins=3, labels=np.arange(3), right=False)"
   ]
  },
  {
   "cell_type": "code",
   "execution_count": 327,
   "metadata": {},
   "outputs": [],
   "source": [
    "train_X = train.drop('DEATH_EVENT', axis=1)\n",
    "train_y = train['DEATH_EVENT']\n",
    "\n",
    "test_X = test.drop('DEATH_EVENT', axis=1)\n",
    "test_y = test['DEATH_EVENT']"
   ]
  },
  {
   "cell_type": "markdown",
   "metadata": {},
   "source": [
    "# DecisionTreeClassifier"
   ]
  },
  {
   "cell_type": "code",
   "execution_count": 328,
   "metadata": {},
   "outputs": [],
   "source": [
    "col = ['serum_creatinine', 'age', 'ejection_fraction', 'time']"
   ]
  },
  {
   "cell_type": "markdown",
   "metadata": {},
   "source": [
    "Ho scelto di utilizzare solo 4 features essendo quelle che mi davano un rapporto maggiore tra morte e features o gruppo interno alla feature e con il quale avrei potuto ottenere prestazioni migliori.\n",
    "Le altre features non sembravano influenzare positivamente il modello, anzi aggiungendo features diverse da quelle sopra elencate il test test diminuiva.\n",
    "\n",
    "Ho cercato di concentrarmi soltanto sulla predizione dell'etichetta 1 (morte) anche se risulta ostico a causa di una concentrazione dei dati verso la laber 0 (vivi) e nella maggior parte delle volte ciò che andava a fare il mio modello era stimare gli 0. Nonostante alcuni modelli avessero training set / test set che sembravano risultare migliori in realtà la previsione della label 1 peggiorava.\n",
    "\n",
    "Ho notato che inizializzando i dati nel notebook di preparazione più volte i risultati del classificatore cambiano notevolmente e si passa a volte da una predizione della label 1 di 80% 90% ad un 60 o 70% nonostante l'accuracy del test set non cambi. Penso che il problema sia dovuto alla scarsità dei dati a disposizione."
   ]
  },
  {
   "cell_type": "code",
   "execution_count": 329,
   "metadata": {},
   "outputs": [
    {
     "name": "stdout",
     "output_type": "stream",
     "text": [
      "Accuracy on training set: 0.868\n",
      "Accuracy on test set: 0.903\n"
     ]
    }
   ],
   "source": [
    "from sklearn.tree import DecisionTreeClassifier\n",
    "from sklearn.model_selection import cross_val_score\n",
    "\n",
    "model = DecisionTreeClassifier(random_state=42, max_leaf_nodes=8, criterion='entropy')\n",
    "\n",
    "# Fit Model\n",
    "model.fit(train_X[col], train_y)\n",
    "\n",
    "val_predictions = model.predict(test_X[col])\n",
    "\n",
    "print(\"Accuracy on training set: {:.3f}\".format(model.score(train_X[col], train_y)))\n",
    "print(\"Accuracy on test set: {:.3f}\".format(model.score(test_X[col], test_y)))"
   ]
  },
  {
   "cell_type": "code",
   "execution_count": 330,
   "metadata": {
    "scrolled": true
   },
   "outputs": [
    {
     "data": {
      "image/png": "[encoded data removed]",
      "text/plain": [
       "<Figure size 432x288 with 2 Axes>"
      ]
     },
     "metadata": {
      "needs_background": "light"
     },
     "output_type": "display_data"
    }
   ],
   "source": [
    "plot_confusion_matrix(model, test_X[col], test_y, normalize = 'true')  # doctest: +SKIP\n",
    "plt.show()"
   ]
  }
 ],
 "metadata": {
  "@webio": {
   "lastCommId": null,
   "lastKernelId": null
  },
  "kernelspec": {
   "display_name": "Python 3.7.4 64-bit ('base': conda)",
   "language": "python",
   "name": "python37464bitbaseconda99500029fe664716a7581654489d902c"
  },
  "language_info": {
   "codemirror_mode": {
    "name": "ipython",
    "version": 3
   },
   "file_extension": ".py",
   "mimetype": "text/x-python",
   "name": "python",
   "nbconvert_exporter": "python",
   "pygments_lexer": "ipython3",
   "version": "3.7.4"
  }
 },
 "nbformat": 4,
 "nbformat_minor": 2
}

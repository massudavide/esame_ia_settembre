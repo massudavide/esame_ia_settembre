{
 "cells": [
  {
   "cell_type": "code",
   "execution_count": 1,
   "metadata": {},
   "outputs": [
    {
     "name": "stdout",
     "output_type": "stream",
     "text": [
      "Requirement already satisfied: matplotlib==3.1.3 in /home/davide/anaconda3/lib/python3.7/site-packages (from -r requirements.txt (line 1)) (3.1.3)\n",
      "Requirement already satisfied: numpy==1.18.1 in /home/davide/anaconda3/lib/python3.7/site-packages (from -r requirements.txt (line 2)) (1.18.1)\n",
      "Requirement already satisfied: pandas==1.0.1 in /home/davide/anaconda3/lib/python3.7/site-packages (from -r requirements.txt (line 3)) (1.0.1)\n",
      "Requirement already satisfied: scikit-learn==0.22.1 in /home/davide/anaconda3/lib/python3.7/site-packages (from -r requirements.txt (line 4)) (0.22.1)\n",
      "Requirement already satisfied: kiwisolver>=1.0.1 in /home/davide/anaconda3/lib/python3.7/site-packages (from matplotlib==3.1.3->-r requirements.txt (line 1)) (1.1.0)\n",
      "Requirement already satisfied: python-dateutil>=2.1 in /home/davide/anaconda3/lib/python3.7/site-packages (from matplotlib==3.1.3->-r requirements.txt (line 1)) (2.8.0)\n",
      "Requirement already satisfied: pyparsing!=2.0.4,!=2.1.2,!=2.1.6,>=2.0.1 in /home/davide/anaconda3/lib/python3.7/site-packages (from matplotlib==3.1.3->-r requirements.txt (line 1)) (2.4.2)\n",
      "Requirement already satisfied: cycler>=0.10 in /home/davide/anaconda3/lib/python3.7/site-packages (from matplotlib==3.1.3->-r requirements.txt (line 1)) (0.10.0)\n",
      "Requirement already satisfied: pytz>=2017.2 in /home/davide/anaconda3/lib/python3.7/site-packages (from pandas==1.0.1->-r requirements.txt (line 3)) (2019.3)\n",
      "Requirement already satisfied: scipy>=0.17.0 in /home/davide/anaconda3/lib/python3.7/site-packages (from scikit-learn==0.22.1->-r requirements.txt (line 4)) (1.4.1)\n",
      "Requirement already satisfied: joblib>=0.11 in /home/davide/anaconda3/lib/python3.7/site-packages (from scikit-learn==0.22.1->-r requirements.txt (line 4)) (0.13.2)\n",
      "Requirement already satisfied: setuptools in /home/davide/anaconda3/lib/python3.7/site-packages (from kiwisolver>=1.0.1->matplotlib==3.1.3->-r requirements.txt (line 1)) (47.1.1)\n",
      "Requirement already satisfied: six>=1.5 in /home/davide/anaconda3/lib/python3.7/site-packages (from python-dateutil>=2.1->matplotlib==3.1.3->-r requirements.txt (line 1)) (1.14.0)\n"
     ]
    }
   ],
   "source": [
    "!pip install -r requirements.txt"
   ]
  },
  {
   "cell_type": "code",
   "execution_count": 2,
   "metadata": {},
   "outputs": [],
   "source": [
    "import numpy as np\n",
    "import pandas as pd\n",
    "import matplotlib.pyplot as plt\n",
    "from matplotlib import pylab\n",
    "from sklearn.metrics import plot_confusion_matrix\n",
    "from sklearn.svm import SVC"
   ]
  },
  {
   "cell_type": "code",
   "execution_count": 3,
   "metadata": {},
   "outputs": [],
   "source": [
    "train_path = \"train.csv\"\n",
    "train = pd.read_csv(train_path)\n",
    "\n",
    "test_path = \"test.csv\"\n",
    "test = pd.read_csv(test_path)"
   ]
  },
  {
   "cell_type": "code",
   "execution_count": 4,
   "metadata": {},
   "outputs": [
    {
     "name": "stdout",
     "output_type": "stream",
     "text": [
      "train shape:  (167, 14)\n",
      "test shape:  (72, 14)\n"
     ]
    }
   ],
   "source": [
    "print('train shape: ', train.shape)\n",
    "print('test shape: ', test.shape)"
   ]
  },
  {
   "cell_type": "code",
   "execution_count": 5,
   "metadata": {},
   "outputs": [
    {
     "data": {
      "text/html": [
       "<div>\n",
       "<style scoped>\n",
       "    .dataframe tbody tr th:only-of-type {\n",
       "        vertical-align: middle;\n",
       "    }\n",
       "\n",
       "    .dataframe tbody tr th {\n",
       "        vertical-align: top;\n",
       "    }\n",
       "\n",
       "    .dataframe thead th {\n",
       "        text-align: right;\n",
       "    }\n",
       "</style>\n",
       "<table border=\"1\" class=\"dataframe\">\n",
       "  <thead>\n",
       "    <tr style=\"text-align: right;\">\n",
       "      <th></th>\n",
       "      <th>Unnamed: 0</th>\n",
       "      <th>DEATH_EVENT</th>\n",
       "      <th>age</th>\n",
       "      <th>anaemia</th>\n",
       "      <th>creatinine_phosphokinase</th>\n",
       "      <th>diabetes</th>\n",
       "      <th>ejection_fraction</th>\n",
       "      <th>high_blood_pressure</th>\n",
       "      <th>platelets</th>\n",
       "      <th>serum_creatinine</th>\n",
       "      <th>serum_sodium</th>\n",
       "      <th>sex</th>\n",
       "      <th>smoking</th>\n",
       "      <th>time</th>\n",
       "    </tr>\n",
       "  </thead>\n",
       "  <tbody>\n",
       "    <tr>\n",
       "      <th>0</th>\n",
       "      <td>29</td>\n",
       "      <td>0</td>\n",
       "      <td>50.0</td>\n",
       "      <td>0</td>\n",
       "      <td>250</td>\n",
       "      <td>0</td>\n",
       "      <td>25</td>\n",
       "      <td>0</td>\n",
       "      <td>262000.0</td>\n",
       "      <td>1.0</td>\n",
       "      <td>136</td>\n",
       "      <td>1</td>\n",
       "      <td>1</td>\n",
       "      <td>120</td>\n",
       "    </tr>\n",
       "    <tr>\n",
       "      <th>1</th>\n",
       "      <td>124</td>\n",
       "      <td>0</td>\n",
       "      <td>70.0</td>\n",
       "      <td>0</td>\n",
       "      <td>88</td>\n",
       "      <td>1</td>\n",
       "      <td>35</td>\n",
       "      <td>1</td>\n",
       "      <td>236000.0</td>\n",
       "      <td>1.2</td>\n",
       "      <td>132</td>\n",
       "      <td>0</td>\n",
       "      <td>0</td>\n",
       "      <td>215</td>\n",
       "    </tr>\n",
       "    <tr>\n",
       "      <th>2</th>\n",
       "      <td>75</td>\n",
       "      <td>0</td>\n",
       "      <td>65.0</td>\n",
       "      <td>0</td>\n",
       "      <td>118</td>\n",
       "      <td>0</td>\n",
       "      <td>50</td>\n",
       "      <td>0</td>\n",
       "      <td>194000.0</td>\n",
       "      <td>1.1</td>\n",
       "      <td>145</td>\n",
       "      <td>1</td>\n",
       "      <td>1</td>\n",
       "      <td>200</td>\n",
       "    </tr>\n",
       "    <tr>\n",
       "      <th>3</th>\n",
       "      <td>82</td>\n",
       "      <td>0</td>\n",
       "      <td>60.0</td>\n",
       "      <td>1</td>\n",
       "      <td>2281</td>\n",
       "      <td>1</td>\n",
       "      <td>40</td>\n",
       "      <td>0</td>\n",
       "      <td>283000.0</td>\n",
       "      <td>1.0</td>\n",
       "      <td>141</td>\n",
       "      <td>0</td>\n",
       "      <td>0</td>\n",
       "      <td>187</td>\n",
       "    </tr>\n",
       "    <tr>\n",
       "      <th>4</th>\n",
       "      <td>5</td>\n",
       "      <td>1</td>\n",
       "      <td>68.0</td>\n",
       "      <td>1</td>\n",
       "      <td>220</td>\n",
       "      <td>0</td>\n",
       "      <td>35</td>\n",
       "      <td>1</td>\n",
       "      <td>289000.0</td>\n",
       "      <td>0.9</td>\n",
       "      <td>140</td>\n",
       "      <td>1</td>\n",
       "      <td>1</td>\n",
       "      <td>20</td>\n",
       "    </tr>\n",
       "  </tbody>\n",
       "</table>\n",
       "</div>"
      ],
      "text/plain": [
       "   Unnamed: 0  DEATH_EVENT   age  anaemia  creatinine_phosphokinase  diabetes  \\\n",
       "0          29            0  50.0        0                       250         0   \n",
       "1         124            0  70.0        0                        88         1   \n",
       "2          75            0  65.0        0                       118         0   \n",
       "3          82            0  60.0        1                      2281         1   \n",
       "4           5            1  68.0        1                       220         0   \n",
       "\n",
       "   ejection_fraction  high_blood_pressure  platelets  serum_creatinine  \\\n",
       "0                 25                    0   262000.0               1.0   \n",
       "1                 35                    1   236000.0               1.2   \n",
       "2                 50                    0   194000.0               1.1   \n",
       "3                 40                    0   283000.0               1.0   \n",
       "4                 35                    1   289000.0               0.9   \n",
       "\n",
       "   serum_sodium  sex  smoking  time  \n",
       "0           136    1        1   120  \n",
       "1           132    0        0   215  \n",
       "2           145    1        1   200  \n",
       "3           141    0        0   187  \n",
       "4           140    1        1    20  "
      ]
     },
     "execution_count": 5,
     "metadata": {},
     "output_type": "execute_result"
    }
   ],
   "source": [
    "train.head()"
   ]
  },
  {
   "cell_type": "code",
   "execution_count": 6,
   "metadata": {},
   "outputs": [
    {
     "data": {
      "text/html": [
       "<div>\n",
       "<style scoped>\n",
       "    .dataframe tbody tr th:only-of-type {\n",
       "        vertical-align: middle;\n",
       "    }\n",
       "\n",
       "    .dataframe tbody tr th {\n",
       "        vertical-align: top;\n",
       "    }\n",
       "\n",
       "    .dataframe thead th {\n",
       "        text-align: right;\n",
       "    }\n",
       "</style>\n",
       "<table border=\"1\" class=\"dataframe\">\n",
       "  <thead>\n",
       "    <tr style=\"text-align: right;\">\n",
       "      <th></th>\n",
       "      <th>Unnamed: 0</th>\n",
       "      <th>DEATH_EVENT</th>\n",
       "      <th>age</th>\n",
       "      <th>anaemia</th>\n",
       "      <th>creatinine_phosphokinase</th>\n",
       "      <th>diabetes</th>\n",
       "      <th>ejection_fraction</th>\n",
       "      <th>high_blood_pressure</th>\n",
       "      <th>platelets</th>\n",
       "      <th>serum_creatinine</th>\n",
       "      <th>serum_sodium</th>\n",
       "      <th>sex</th>\n",
       "      <th>smoking</th>\n",
       "      <th>time</th>\n",
       "    </tr>\n",
       "  </thead>\n",
       "  <tbody>\n",
       "    <tr>\n",
       "      <th>count</th>\n",
       "      <td>167.000000</td>\n",
       "      <td>167.000000</td>\n",
       "      <td>167.000000</td>\n",
       "      <td>167.000000</td>\n",
       "      <td>167.000000</td>\n",
       "      <td>167.000000</td>\n",
       "      <td>167.000000</td>\n",
       "      <td>167.000000</td>\n",
       "      <td>167.000000</td>\n",
       "      <td>167.000000</td>\n",
       "      <td>167.000000</td>\n",
       "      <td>167.000000</td>\n",
       "      <td>167.000000</td>\n",
       "      <td>167.000000</td>\n",
       "    </tr>\n",
       "    <tr>\n",
       "      <th>mean</th>\n",
       "      <td>116.365269</td>\n",
       "      <td>0.329341</td>\n",
       "      <td>61.039922</td>\n",
       "      <td>0.419162</td>\n",
       "      <td>574.586826</td>\n",
       "      <td>0.359281</td>\n",
       "      <td>37.425150</td>\n",
       "      <td>0.365269</td>\n",
       "      <td>262842.241856</td>\n",
       "      <td>1.341198</td>\n",
       "      <td>136.796407</td>\n",
       "      <td>0.640719</td>\n",
       "      <td>0.293413</td>\n",
       "      <td>129.473054</td>\n",
       "    </tr>\n",
       "    <tr>\n",
       "      <th>std</th>\n",
       "      <td>69.999429</td>\n",
       "      <td>0.471388</td>\n",
       "      <td>11.965020</td>\n",
       "      <td>0.494906</td>\n",
       "      <td>904.986409</td>\n",
       "      <td>0.481233</td>\n",
       "      <td>11.309132</td>\n",
       "      <td>0.482954</td>\n",
       "      <td>93506.475202</td>\n",
       "      <td>0.945895</td>\n",
       "      <td>3.809530</td>\n",
       "      <td>0.481233</td>\n",
       "      <td>0.456696</td>\n",
       "      <td>79.224693</td>\n",
       "    </tr>\n",
       "    <tr>\n",
       "      <th>min</th>\n",
       "      <td>0.000000</td>\n",
       "      <td>0.000000</td>\n",
       "      <td>40.000000</td>\n",
       "      <td>0.000000</td>\n",
       "      <td>23.000000</td>\n",
       "      <td>0.000000</td>\n",
       "      <td>15.000000</td>\n",
       "      <td>0.000000</td>\n",
       "      <td>47000.000000</td>\n",
       "      <td>0.500000</td>\n",
       "      <td>121.000000</td>\n",
       "      <td>0.000000</td>\n",
       "      <td>0.000000</td>\n",
       "      <td>4.000000</td>\n",
       "    </tr>\n",
       "    <tr>\n",
       "      <th>25%</th>\n",
       "      <td>53.500000</td>\n",
       "      <td>0.000000</td>\n",
       "      <td>51.000000</td>\n",
       "      <td>0.000000</td>\n",
       "      <td>112.000000</td>\n",
       "      <td>0.000000</td>\n",
       "      <td>30.000000</td>\n",
       "      <td>0.000000</td>\n",
       "      <td>214000.000000</td>\n",
       "      <td>0.900000</td>\n",
       "      <td>134.000000</td>\n",
       "      <td>0.000000</td>\n",
       "      <td>0.000000</td>\n",
       "      <td>65.500000</td>\n",
       "    </tr>\n",
       "    <tr>\n",
       "      <th>50%</th>\n",
       "      <td>118.000000</td>\n",
       "      <td>0.000000</td>\n",
       "      <td>60.000000</td>\n",
       "      <td>0.000000</td>\n",
       "      <td>305.000000</td>\n",
       "      <td>0.000000</td>\n",
       "      <td>38.000000</td>\n",
       "      <td>0.000000</td>\n",
       "      <td>263358.030000</td>\n",
       "      <td>1.100000</td>\n",
       "      <td>137.000000</td>\n",
       "      <td>1.000000</td>\n",
       "      <td>0.000000</td>\n",
       "      <td>119.000000</td>\n",
       "    </tr>\n",
       "    <tr>\n",
       "      <th>75%</th>\n",
       "      <td>177.500000</td>\n",
       "      <td>1.000000</td>\n",
       "      <td>70.000000</td>\n",
       "      <td>1.000000</td>\n",
       "      <td>582.000000</td>\n",
       "      <td>1.000000</td>\n",
       "      <td>40.000000</td>\n",
       "      <td>1.000000</td>\n",
       "      <td>305000.000000</td>\n",
       "      <td>1.300000</td>\n",
       "      <td>139.500000</td>\n",
       "      <td>1.000000</td>\n",
       "      <td>1.000000</td>\n",
       "      <td>205.500000</td>\n",
       "    </tr>\n",
       "    <tr>\n",
       "      <th>max</th>\n",
       "      <td>238.000000</td>\n",
       "      <td>1.000000</td>\n",
       "      <td>95.000000</td>\n",
       "      <td>1.000000</td>\n",
       "      <td>7861.000000</td>\n",
       "      <td>1.000000</td>\n",
       "      <td>80.000000</td>\n",
       "      <td>1.000000</td>\n",
       "      <td>621000.000000</td>\n",
       "      <td>9.000000</td>\n",
       "      <td>145.000000</td>\n",
       "      <td>1.000000</td>\n",
       "      <td>1.000000</td>\n",
       "      <td>285.000000</td>\n",
       "    </tr>\n",
       "  </tbody>\n",
       "</table>\n",
       "</div>"
      ],
      "text/plain": [
       "       Unnamed: 0  DEATH_EVENT         age     anaemia  \\\n",
       "count  167.000000   167.000000  167.000000  167.000000   \n",
       "mean   116.365269     0.329341   61.039922    0.419162   \n",
       "std     69.999429     0.471388   11.965020    0.494906   \n",
       "min      0.000000     0.000000   40.000000    0.000000   \n",
       "25%     53.500000     0.000000   51.000000    0.000000   \n",
       "50%    118.000000     0.000000   60.000000    0.000000   \n",
       "75%    177.500000     1.000000   70.000000    1.000000   \n",
       "max    238.000000     1.000000   95.000000    1.000000   \n",
       "\n",
       "       creatinine_phosphokinase    diabetes  ejection_fraction  \\\n",
       "count                167.000000  167.000000         167.000000   \n",
       "mean                 574.586826    0.359281          37.425150   \n",
       "std                  904.986409    0.481233          11.309132   \n",
       "min                   23.000000    0.000000          15.000000   \n",
       "25%                  112.000000    0.000000          30.000000   \n",
       "50%                  305.000000    0.000000          38.000000   \n",
       "75%                  582.000000    1.000000          40.000000   \n",
       "max                 7861.000000    1.000000          80.000000   \n",
       "\n",
       "       high_blood_pressure      platelets  serum_creatinine  serum_sodium  \\\n",
       "count           167.000000     167.000000        167.000000    167.000000   \n",
       "mean              0.365269  262842.241856          1.341198    136.796407   \n",
       "std               0.482954   93506.475202          0.945895      3.809530   \n",
       "min               0.000000   47000.000000          0.500000    121.000000   \n",
       "25%               0.000000  214000.000000          0.900000    134.000000   \n",
       "50%               0.000000  263358.030000          1.100000    137.000000   \n",
       "75%               1.000000  305000.000000          1.300000    139.500000   \n",
       "max               1.000000  621000.000000          9.000000    145.000000   \n",
       "\n",
       "              sex     smoking        time  \n",
       "count  167.000000  167.000000  167.000000  \n",
       "mean     0.640719    0.293413  129.473054  \n",
       "std      0.481233    0.456696   79.224693  \n",
       "min      0.000000    0.000000    4.000000  \n",
       "25%      0.000000    0.000000   65.500000  \n",
       "50%      1.000000    0.000000  119.000000  \n",
       "75%      1.000000    1.000000  205.500000  \n",
       "max      1.000000    1.000000  285.000000  "
      ]
     },
     "execution_count": 6,
     "metadata": {},
     "output_type": "execute_result"
    }
   ],
   "source": [
    "train.describe()"
   ]
  },
  {
   "cell_type": "code",
   "execution_count": 7,
   "metadata": {},
   "outputs": [],
   "source": [
    "soloMorti = train.loc[train['DEATH_EVENT']==1]\n",
    "soloVivi = train.loc[train['DEATH_EVENT']==0]"
   ]
  },
  {
   "cell_type": "markdown",
   "metadata": {},
   "source": [
    "Ho descritto soltanto l'analisi di 4 features essendo quelle più rilevanti.\n",
    "Come per queste ho eseguito gli stessi passi anche per le altre, accorgendomi che il rapporto tra i vari casi di attacchi cardiaci e quindi morte rispetto a tutte le altre features risultava essere circa costante ad 1/3, innalzando così la complessità del modello senza avere però dei risultati veri e propri."
   ]
  },
  {
   "cell_type": "markdown",
   "metadata": {},
   "source": [
    "# age\n",
    "funzione che permette di dividere l'età in gruppi sicuramente un parametro importante in quanto maggiore è l'eta maggiore sarà il rischio di infarto"
   ]
  },
  {
   "cell_type": "code",
   "execution_count": 8,
   "metadata": {},
   "outputs": [],
   "source": [
    "def fascia_eta(dataSet):\n",
    "    bins= [0,51,61,71,100]\n",
    "    labels = [0,1,2,3]\n",
    "    \n",
    "    dataSet['age'] = pd.cut(dataSet['age'], bins=bins, labels=labels, right=False)\n",
    "\n",
    "fascia_eta(train)\n",
    "fascia_eta(test)"
   ]
  },
  {
   "cell_type": "code",
   "execution_count": 9,
   "metadata": {},
   "outputs": [
    {
     "data": {
      "text/plain": [
       "DEATH_EVENT  age\n",
       "0            0      32\n",
       "             1      34\n",
       "             2      36\n",
       "             3      10\n",
       "1            0       9\n",
       "             1      15\n",
       "             2      13\n",
       "             3      18\n",
       "Name: DEATH_EVENT, dtype: int64"
      ]
     },
     "execution_count": 9,
     "metadata": {},
     "output_type": "execute_result"
    }
   ],
   "source": [
    "train.groupby(['DEATH_EVENT', 'age'])['DEATH_EVENT'].count()"
   ]
  },
  {
   "cell_type": "markdown",
   "metadata": {},
   "source": [
    "# time\n",
    "vi è una relazione tra le persone prese in osservazione e gli attacchi cardiaci. In particolare le persone che sono state prese in esame da meno tempo hanno una possibilità maggiore di morire"
   ]
  },
  {
   "cell_type": "code",
   "execution_count": 10,
   "metadata": {},
   "outputs": [
    {
     "data": {
      "image/png": "[encoded data removed]",
      "text/plain": [
       "<Figure size 432x288 with 1 Axes>"
      ]
     },
     "metadata": {
      "needs_background": "light"
     },
     "output_type": "display_data"
    },
    {
     "data": {
      "image/png": "[encoded data removed]",
      "text/plain": [
       "<Figure size 432x288 with 1 Axes>"
      ]
     },
     "metadata": {
      "needs_background": "light"
     },
     "output_type": "display_data"
    }
   ],
   "source": [
    "plt.hist(soloVivi['time'])\n",
    "plt.xlabel('time')\n",
    "plt.ylabel('Count')\n",
    "plt.title('valori di time per i vivi')\n",
    "plt.show()\n",
    "\n",
    "plt.hist(soloMorti['time'])\n",
    "plt.xlabel('time')\n",
    "plt.ylabel('Count')\n",
    "plt.title('valori di time per i morti')\n",
    "plt.show()"
   ]
  },
  {
   "cell_type": "code",
   "execution_count": 11,
   "metadata": {},
   "outputs": [],
   "source": [
    "train['time'] = pd.cut(train.time, bins=4, labels=np.arange(4), right=False)\n",
    "test['time'] = pd.cut(test.time, bins=4, labels=np.arange(4), right=False)"
   ]
  },
  {
   "cell_type": "code",
   "execution_count": 12,
   "metadata": {},
   "outputs": [
    {
     "data": {
      "text/plain": [
       "DEATH_EVENT  time\n",
       "0            0       10\n",
       "             1       39\n",
       "             2       35\n",
       "             3       28\n",
       "1            0       39\n",
       "             1        6\n",
       "             2        9\n",
       "             3        1\n",
       "Name: DEATH_EVENT, dtype: int64"
      ]
     },
     "execution_count": 12,
     "metadata": {},
     "output_type": "execute_result"
    }
   ],
   "source": [
    "train.groupby(['DEATH_EVENT', 'time'])['DEATH_EVENT'].count()"
   ]
  },
  {
   "cell_type": "markdown",
   "metadata": {},
   "source": [
    "# serum_creatinine\n",
    "Ad essere sincero non riesco bene a stimare la relazione che vi è tra creatinina e morte ma facendo un paragone tra i valori creatinina nelle persone vive con quelli dei morti si riesce ad osservare che all'aumentare della creatinina aumenta anche il rischio di morte"
   ]
  },
  {
   "cell_type": "code",
   "execution_count": 13,
   "metadata": {},
   "outputs": [
    {
     "data": {
      "text/plain": [
       "count    167.000000\n",
       "mean       1.341198\n",
       "std        0.945895\n",
       "min        0.500000\n",
       "25%        0.900000\n",
       "50%        1.100000\n",
       "75%        1.300000\n",
       "max        9.000000\n",
       "Name: serum_creatinine, dtype: float64"
      ]
     },
     "execution_count": 13,
     "metadata": {},
     "output_type": "execute_result"
    }
   ],
   "source": [
    "train['serum_creatinine'].describe()"
   ]
  },
  {
   "cell_type": "code",
   "execution_count": 14,
   "metadata": {},
   "outputs": [],
   "source": [
    "# funzione che permette di dividere i valori della creatinina in gruppi\n",
    "def group_serum_creatinine(dataSet):\n",
    "    bins= [0,0.5,1,1.5,10]\n",
    "    labels = [0,1,2,3]\n",
    "    \n",
    "    dataSet['serum_creatinine'] = pd.cut(dataSet['serum_creatinine'], bins=bins, labels=labels, right=False)\n",
    "    \n",
    "group_serum_creatinine(train)\n",
    "group_serum_creatinine(test)"
   ]
  },
  {
   "cell_type": "code",
   "execution_count": 15,
   "metadata": {},
   "outputs": [
    {
     "data": {
      "text/plain": [
       "DEATH_EVENT  serum_creatinine\n",
       "0            0                    0\n",
       "             1                   43\n",
       "             2                   57\n",
       "             3                   12\n",
       "1            0                    0\n",
       "             1                    5\n",
       "             2                   25\n",
       "             3                   25\n",
       "Name: DEATH_EVENT, dtype: int64"
      ]
     },
     "execution_count": 15,
     "metadata": {},
     "output_type": "execute_result"
    }
   ],
   "source": [
    "train.groupby(['DEATH_EVENT', 'serum_creatinine'])['DEATH_EVENT'].count()"
   ]
  },
  {
   "cell_type": "markdown",
   "metadata": {},
   "source": [
    "# ejection_fraction\n",
    "Le persone che hanno una minore perchentuale di sangue ch esce dal cuore ad ogni contrazione hanno una probabilità maggiore di avere un attacco cardiaco e quindi una maggiore possibilità di morire"
   ]
  },
  {
   "cell_type": "code",
   "execution_count": 16,
   "metadata": {},
   "outputs": [
    {
     "data": {
      "image/png": "[encoded data removed]",
      "text/plain": [
       "<Figure size 432x288 with 1 Axes>"
      ]
     },
     "metadata": {
      "needs_background": "light"
     },
     "output_type": "display_data"
    },
    {
     "data": {
      "image/png": "[encoded data removed]",
      "text/plain": [
       "<Figure size 432x288 with 1 Axes>"
      ]
     },
     "metadata": {
      "needs_background": "light"
     },
     "output_type": "display_data"
    }
   ],
   "source": [
    "plt.hist(soloVivi['ejection_fraction'])\n",
    "plt.xlabel('ejection_fraction')\n",
    "plt.ylabel('Count')\n",
    "plt.title('valori di ejection_fraction per i vivi')\n",
    "plt.show()\n",
    "\n",
    "plt.hist(soloMorti['ejection_fraction'])\n",
    "plt.xlabel('ejection_fraction')\n",
    "plt.ylabel('Count')\n",
    "plt.title('valori di ejection_fraction per i morti')\n",
    "plt.show()"
   ]
  },
  {
   "cell_type": "code",
   "execution_count": 17,
   "metadata": {},
   "outputs": [],
   "source": [
    "train['ejection_fraction'] = pd.cut(train.ejection_fraction, bins=3, labels=np.arange(3), right=False)\n",
    "test['ejection_fraction'] = pd.cut(test.ejection_fraction, bins=3, labels=np.arange(3), right=False)"
   ]
  },
  {
   "cell_type": "code",
   "execution_count": 18,
   "metadata": {},
   "outputs": [],
   "source": [
    "train_X = train.drop('DEATH_EVENT', axis=1)\n",
    "train_y = train['DEATH_EVENT']\n",
    "\n",
    "test_X = test.drop('DEATH_EVENT', axis=1)\n",
    "test_y = test['DEATH_EVENT']"
   ]
  },
  {
   "cell_type": "markdown",
   "metadata": {},
   "source": [
    "# DecisionTreeClassifier"
   ]
  },
  {
   "cell_type": "code",
   "execution_count": 19,
   "metadata": {},
   "outputs": [],
   "source": [
    "col = ['serum_creatinine', 'age', 'ejection_fraction', 'time']"
   ]
  },
  {
   "cell_type": "markdown",
   "metadata": {},
   "source": [
    "Ho scelto di utilizzare solo 4 features essendo quelle che mi davano un rapporto maggiore tra morte e features o gruppo interno alla feature e con il quale avrei potuto ottenere prestazioni migliori.\n",
    "Le altre features non sembravano influenzare positivamente il modello, anzi aggiungendo features diverse da quelle sopra elencate il test test diminuiva e con esso anche il numero di predizioni di etichette 1 (\"morto\").\n",
    "\n",
    "Ho cercato di concentrarmi soltanto sulla predizione dell'etichetta 1 (morte) anche se risulta ostico a causa di una concentrazione dei dati verso la laber 0 (vivi) e nella maggior parte delle volte ciò che andava a fare il mio modello era stimare gli 0. Nonostante alcuni modelli avessero training set / test set che sembravano risultare migliori in realtà la previsione della label 1 peggiorava."
   ]
  },
  {
   "cell_type": "code",
   "execution_count": 20,
   "metadata": {},
   "outputs": [
    {
     "name": "stdout",
     "output_type": "stream",
     "text": [
      "Accuracy on training set: 0.886\n",
      "Accuracy on test set: 0.819\n"
     ]
    }
   ],
   "source": [
    "from sklearn.tree import DecisionTreeClassifier\n",
    "from sklearn.model_selection import cross_val_score\n",
    "\n",
    "model = DecisionTreeClassifier(random_state=42, max_leaf_nodes=8, criterion='entropy')\n",
    "\n",
    "# Fit Model\n",
    "model.fit(train_X[col], train_y)\n",
    "\n",
    "val_predictions = model.predict(test_X[col])\n",
    "\n",
    "print(\"Accuracy on training set: {:.3f}\".format(model.score(train_X[col], train_y)))\n",
    "print(\"Accuracy on test set: {:.3f}\".format(model.score(test_X[col], test_y)))"
   ]
  },
  {
   "cell_type": "code",
   "execution_count": 21,
   "metadata": {
    "scrolled": true
   },
   "outputs": [
    {
     "data": {
      "image/png": "[encoded data removed]",
      "text/plain": [
       "<Figure size 432x288 with 2 Axes>"
      ]
     },
     "metadata": {
      "needs_background": "light"
     },
     "output_type": "display_data"
    }
   ],
   "source": [
    "plot_confusion_matrix(model, test_X[col], test_y, normalize = 'true')  # doctest: +SKIP\n",
    "plt.show()"
   ]
  },
  {
   "cell_type": "code",
   "execution_count": 22,
   "metadata": {},
   "outputs": [
    {
     "data": {
      "image/png": "[encoded data removed]",
      "text/plain": [
       "<Figure size 800x800 with 1 Axes>"
      ]
     },
     "metadata": {
      "needs_background": "light"
     },
     "output_type": "display_data"
    }
   ],
   "source": [
    "from sklearn import tree\n",
    "from sklearn.tree import plot_tree\n",
    "\n",
    "fig, axes = plt.subplots(nrows = 1,ncols = 1,figsize = (4,4), dpi=200)\n",
    "\n",
    "tree.plot_tree(model,\n",
    "               feature_names = col,\n",
    "               filled = True);"
   ]
  }
 ],
 "metadata": {
  "@webio": {
   "lastCommId": null,
   "lastKernelId": null
  },
  "kernelspec": {
   "display_name": "Python 3.7.4 64-bit ('base': conda)",
   "language": "python",
   "name": "python37464bitbaseconda99500029fe664716a7581654489d902c"
  },
  "language_info": {
   "codemirror_mode": {
    "name": "ipython",
    "version": 3
   },
   "file_extension": ".py",
   "mimetype": "text/x-python",
   "name": "python",
   "nbconvert_exporter": "python",
   "pygments_lexer": "ipython3",
   "version": "3.7.4"
  }
 },
 "nbformat": 4,
 "nbformat_minor": 2
}
